{
 "cells": [
  {
   "cell_type": "markdown",
   "metadata": {},
   "source": [
    "Obervations:\n",
    "1. According to the box plot, the top 4 most promising treatments had practically no outliers. Only Infubinol had a single outlier.\n",
    "2. The two treatments which reduced tumors the most, Capomulin and Ramicane, also had the most data points, increasing the reliability of both studies beyond their reduction of tumor sizes alone. \n",
    "3. As a baseline, there was a strong correlaion between mouse weight and tumor size for the population treated with Capomulin. While the treatment was effective, weight was also a factor in determining tumor size. "
   ]
  },
  {
   "cell_type": "code",
   "execution_count": 1,
   "metadata": {},
   "outputs": [
    {
     "data": {
      "text/html": [
       "<div>\n",
       "<style scoped>\n",
       "    .dataframe tbody tr th:only-of-type {\n",
       "        vertical-align: middle;\n",
       "    }\n",
       "\n",
       "    .dataframe tbody tr th {\n",
       "        vertical-align: top;\n",
       "    }\n",
       "\n",
       "    .dataframe thead th {\n",
       "        text-align: right;\n",
       "    }\n",
       "</style>\n",
       "<table border=\"1\" class=\"dataframe\">\n",
       "  <thead>\n",
       "    <tr style=\"text-align: right;\">\n",
       "      <th></th>\n",
       "      <th>Mouse ID</th>\n",
       "      <th>Drug Regimen</th>\n",
       "      <th>Sex</th>\n",
       "      <th>Age_months</th>\n",
       "      <th>Weight (g)</th>\n",
       "      <th>Timepoint</th>\n",
       "      <th>Tumor Volume (mm3)</th>\n",
       "      <th>Metastatic Sites</th>\n",
       "    </tr>\n",
       "  </thead>\n",
       "  <tbody>\n",
       "    <tr>\n",
       "      <td>0</td>\n",
       "      <td>k403</td>\n",
       "      <td>Ramicane</td>\n",
       "      <td>Male</td>\n",
       "      <td>21</td>\n",
       "      <td>16</td>\n",
       "      <td>0</td>\n",
       "      <td>45.000000</td>\n",
       "      <td>0</td>\n",
       "    </tr>\n",
       "    <tr>\n",
       "      <td>1</td>\n",
       "      <td>k403</td>\n",
       "      <td>Ramicane</td>\n",
       "      <td>Male</td>\n",
       "      <td>21</td>\n",
       "      <td>16</td>\n",
       "      <td>5</td>\n",
       "      <td>38.825898</td>\n",
       "      <td>0</td>\n",
       "    </tr>\n",
       "    <tr>\n",
       "      <td>2</td>\n",
       "      <td>k403</td>\n",
       "      <td>Ramicane</td>\n",
       "      <td>Male</td>\n",
       "      <td>21</td>\n",
       "      <td>16</td>\n",
       "      <td>10</td>\n",
       "      <td>35.014271</td>\n",
       "      <td>1</td>\n",
       "    </tr>\n",
       "    <tr>\n",
       "      <td>3</td>\n",
       "      <td>k403</td>\n",
       "      <td>Ramicane</td>\n",
       "      <td>Male</td>\n",
       "      <td>21</td>\n",
       "      <td>16</td>\n",
       "      <td>15</td>\n",
       "      <td>34.223992</td>\n",
       "      <td>1</td>\n",
       "    </tr>\n",
       "    <tr>\n",
       "      <td>4</td>\n",
       "      <td>k403</td>\n",
       "      <td>Ramicane</td>\n",
       "      <td>Male</td>\n",
       "      <td>21</td>\n",
       "      <td>16</td>\n",
       "      <td>20</td>\n",
       "      <td>32.997729</td>\n",
       "      <td>1</td>\n",
       "    </tr>\n",
       "  </tbody>\n",
       "</table>\n",
       "</div>"
      ],
      "text/plain": [
       "  Mouse ID Drug Regimen   Sex  Age_months  Weight (g)  Timepoint  \\\n",
       "0     k403     Ramicane  Male          21          16          0   \n",
       "1     k403     Ramicane  Male          21          16          5   \n",
       "2     k403     Ramicane  Male          21          16         10   \n",
       "3     k403     Ramicane  Male          21          16         15   \n",
       "4     k403     Ramicane  Male          21          16         20   \n",
       "\n",
       "   Tumor Volume (mm3)  Metastatic Sites  \n",
       "0           45.000000                 0  \n",
       "1           38.825898                 0  \n",
       "2           35.014271                 1  \n",
       "3           34.223992                 1  \n",
       "4           32.997729                 1  "
      ]
     },
     "execution_count": 1,
     "metadata": {},
     "output_type": "execute_result"
    }
   ],
   "source": [
    "# Dependencies and Setup\n",
    "import matplotlib.pyplot as plt\n",
    "import pandas as pd\n",
    "import scipy.stats as st\n",
    "from scipy.stats import linregress    \n",
    "\n",
    "# Study data files\n",
    "mouse_metadata = \"data/Mouse_metadata.csv\"\n",
    "study_results = \"data/Study_results.csv\"\n",
    "\n",
    "# Read the mouse data and the study results\n",
    "mouse_metadata = pd.read_csv(mouse_metadata)\n",
    "study_results = pd.read_csv(study_results)\n",
    "\n",
    "# Combine the data into a single dataset\n",
    "mouse_study = pd.merge(mouse_metadata, study_results, how=\"left\", on=\"Mouse ID\")\n",
    "mouse_study.head()"
   ]
  },
  {
   "cell_type": "code",
   "execution_count": 2,
   "metadata": {},
   "outputs": [
    {
     "data": {
      "text/html": [
       "<div>\n",
       "<style scoped>\n",
       "    .dataframe tbody tr th:only-of-type {\n",
       "        vertical-align: middle;\n",
       "    }\n",
       "\n",
       "    .dataframe tbody tr th {\n",
       "        vertical-align: top;\n",
       "    }\n",
       "\n",
       "    .dataframe thead th {\n",
       "        text-align: right;\n",
       "    }\n",
       "</style>\n",
       "<table border=\"1\" class=\"dataframe\">\n",
       "  <thead>\n",
       "    <tr style=\"text-align: right;\">\n",
       "      <th></th>\n",
       "      <th>Tumor Volume: mean</th>\n",
       "      <th>Tumor Volume: median</th>\n",
       "      <th>Tumor Volume: variance</th>\n",
       "      <th>Tumor Volume: standard deviation</th>\n",
       "      <th>Tumor Volume: SEM</th>\n",
       "    </tr>\n",
       "    <tr>\n",
       "      <th>Drug Regimen</th>\n",
       "      <th></th>\n",
       "      <th></th>\n",
       "      <th></th>\n",
       "      <th></th>\n",
       "      <th></th>\n",
       "    </tr>\n",
       "  </thead>\n",
       "  <tbody>\n",
       "    <tr>\n",
       "      <td>Capomulin</td>\n",
       "      <td>40.675741</td>\n",
       "      <td>41.557809</td>\n",
       "      <td>24.947764</td>\n",
       "      <td>4.994774</td>\n",
       "      <td>0.329346</td>\n",
       "    </tr>\n",
       "    <tr>\n",
       "      <td>Ceftamin</td>\n",
       "      <td>52.591172</td>\n",
       "      <td>51.776157</td>\n",
       "      <td>39.290177</td>\n",
       "      <td>6.268188</td>\n",
       "      <td>0.469821</td>\n",
       "    </tr>\n",
       "    <tr>\n",
       "      <td>Infubinol</td>\n",
       "      <td>52.884795</td>\n",
       "      <td>51.820584</td>\n",
       "      <td>43.128684</td>\n",
       "      <td>6.567243</td>\n",
       "      <td>0.492236</td>\n",
       "    </tr>\n",
       "    <tr>\n",
       "      <td>Ketapril</td>\n",
       "      <td>55.235638</td>\n",
       "      <td>53.698743</td>\n",
       "      <td>68.553577</td>\n",
       "      <td>8.279709</td>\n",
       "      <td>0.603860</td>\n",
       "    </tr>\n",
       "    <tr>\n",
       "      <td>Naftisol</td>\n",
       "      <td>54.331565</td>\n",
       "      <td>52.509285</td>\n",
       "      <td>66.173479</td>\n",
       "      <td>8.134708</td>\n",
       "      <td>0.596466</td>\n",
       "    </tr>\n",
       "    <tr>\n",
       "      <td>Placebo</td>\n",
       "      <td>54.033581</td>\n",
       "      <td>52.288934</td>\n",
       "      <td>61.168083</td>\n",
       "      <td>7.821003</td>\n",
       "      <td>0.581331</td>\n",
       "    </tr>\n",
       "    <tr>\n",
       "      <td>Propriva</td>\n",
       "      <td>52.322552</td>\n",
       "      <td>50.854632</td>\n",
       "      <td>42.351070</td>\n",
       "      <td>6.507770</td>\n",
       "      <td>0.512884</td>\n",
       "    </tr>\n",
       "    <tr>\n",
       "      <td>Ramicane</td>\n",
       "      <td>40.216745</td>\n",
       "      <td>40.673236</td>\n",
       "      <td>23.486704</td>\n",
       "      <td>4.846308</td>\n",
       "      <td>0.320955</td>\n",
       "    </tr>\n",
       "    <tr>\n",
       "      <td>Stelasyn</td>\n",
       "      <td>54.233149</td>\n",
       "      <td>52.431737</td>\n",
       "      <td>59.450562</td>\n",
       "      <td>7.710419</td>\n",
       "      <td>0.573111</td>\n",
       "    </tr>\n",
       "    <tr>\n",
       "      <td>Zoniferol</td>\n",
       "      <td>53.236507</td>\n",
       "      <td>51.818479</td>\n",
       "      <td>48.533355</td>\n",
       "      <td>6.966589</td>\n",
       "      <td>0.516398</td>\n",
       "    </tr>\n",
       "  </tbody>\n",
       "</table>\n",
       "</div>"
      ],
      "text/plain": [
       "              Tumor Volume: mean  Tumor Volume: median  \\\n",
       "Drug Regimen                                             \n",
       "Capomulin              40.675741             41.557809   \n",
       "Ceftamin               52.591172             51.776157   \n",
       "Infubinol              52.884795             51.820584   \n",
       "Ketapril               55.235638             53.698743   \n",
       "Naftisol               54.331565             52.509285   \n",
       "Placebo                54.033581             52.288934   \n",
       "Propriva               52.322552             50.854632   \n",
       "Ramicane               40.216745             40.673236   \n",
       "Stelasyn               54.233149             52.431737   \n",
       "Zoniferol              53.236507             51.818479   \n",
       "\n",
       "              Tumor Volume: variance  Tumor Volume: standard deviation  \\\n",
       "Drug Regimen                                                             \n",
       "Capomulin                  24.947764                          4.994774   \n",
       "Ceftamin                   39.290177                          6.268188   \n",
       "Infubinol                  43.128684                          6.567243   \n",
       "Ketapril                   68.553577                          8.279709   \n",
       "Naftisol                   66.173479                          8.134708   \n",
       "Placebo                    61.168083                          7.821003   \n",
       "Propriva                   42.351070                          6.507770   \n",
       "Ramicane                   23.486704                          4.846308   \n",
       "Stelasyn                   59.450562                          7.710419   \n",
       "Zoniferol                  48.533355                          6.966589   \n",
       "\n",
       "              Tumor Volume: SEM  \n",
       "Drug Regimen                     \n",
       "Capomulin              0.329346  \n",
       "Ceftamin               0.469821  \n",
       "Infubinol              0.492236  \n",
       "Ketapril               0.603860  \n",
       "Naftisol               0.596466  \n",
       "Placebo                0.581331  \n",
       "Propriva               0.512884  \n",
       "Ramicane               0.320955  \n",
       "Stelasyn               0.573111  \n",
       "Zoniferol              0.516398  "
      ]
     },
     "execution_count": 2,
     "metadata": {},
     "output_type": "execute_result"
    }
   ],
   "source": [
    "# Generate a summary statistics table of mean, median, variance, standard deviation, and SEM of the tumor volume for each \n",
    "# regimen \n",
    "\n",
    "tumorvol_mean = mouse_study.groupby([\"Drug Regimen\"])[\"Tumor Volume (mm3)\"].mean()\n",
    "tumorvol_median = mouse_study.groupby([\"Drug Regimen\"])[\"Tumor Volume (mm3)\"].median()\n",
    "tumorvol_variance = mouse_study.groupby([\"Drug Regimen\"])[\"Tumor Volume (mm3)\"].var()\n",
    "tumorvol_std = mouse_study.groupby([\"Drug Regimen\"])[\"Tumor Volume (mm3)\"].std()\n",
    "tumorvol_SEM = mouse_study.groupby([\"Drug Regimen\"])[\"Tumor Volume (mm3)\"].sem()\n",
    "tumorvol_summary_df = pd.DataFrame({\"Tumor Volume: mean\":tumorvol_mean, \"Tumor Volume: median\":tumorvol_median,\n",
    "    \"Tumor Volume: variance\": tumorvol_variance ,\"Tumor Volume: standard deviation\": tumorvol_std,\n",
    "    \"Tumor Volume: SEM\": tumorvol_SEM})\n",
    "tumorvol_summary_df"
   ]
  },
  {
   "cell_type": "code",
   "execution_count": 3,
   "metadata": {},
   "outputs": [
    {
     "data": {
      "text/plain": [
       "Text(0, 0.5, 'Number of Data Points')"
      ]
     },
     "execution_count": 3,
     "metadata": {},
     "output_type": "execute_result"
    },
    {
     "data": {
      "image/png": "[encoded data removed]",
      "text/plain": [
       "<Figure size 432x288 with 1 Axes>"
      ]
     },
     "metadata": {
      "needs_background": "light"
     },
     "output_type": "display_data"
    }
   ],
   "source": [
    "# Generate a bar plot showing number of data points for each treatment regimen using pandas\n",
    "datapoints_per_regimen = mouse_study.groupby([\"Drug Regimen\"])[\"Drug Regimen\"].count()\n",
    "datapoints_bar = datapoints_per_regimen.plot(kind=\"bar\")\n",
    "datapoints_bar.set_ylabel(\"Number of Data Points\")"
   ]
  },
  {
   "cell_type": "code",
   "execution_count": 4,
   "metadata": {},
   "outputs": [
    {
     "data": {
      "text/plain": [
       "Text(0.5, 0, 'Drug Regimen')"
      ]
     },
     "execution_count": 4,
     "metadata": {},
     "output_type": "execute_result"
    },
    {
     "data": {
      "image/png": "[encoded data removed]",
      "text/plain": [
       "<Figure size 432x288 with 1 Axes>"
      ]
     },
     "metadata": {
      "needs_background": "light"
     },
     "output_type": "display_data"
    }
   ],
   "source": [
    "# Generate a bar plot showing number of data points for each treatment regimen using pyplot \n",
    "regimens = (\"Capomulin\", \"Ceftamin\", \"Infubinol\", \"Ketapril\", \"Naftisol\", \"Placebo\", \"Propriva\", \"Ramicane\", \"Stelasyn\",\n",
    "    \"Zoniferol\")\n",
    "plt.bar(regimens, datapoints_per_regimen, align=\"center\")\n",
    "plt.xticks(rotation=\"vertical\")\n",
    "plt.ylabel(\"Number of Data Points\")\n",
    "plt.xlabel(\"Drug Regimen\")"
   ]
  },
  {
   "cell_type": "code",
   "execution_count": 5,
   "metadata": {},
   "outputs": [
    {
     "data": {
      "image/png": "[encoded data removed]",
      "text/plain": [
       "<Figure size 432x288 with 1 Axes>"
      ]
     },
     "metadata": {},
     "output_type": "display_data"
    }
   ],
   "source": [
    "# Generate a pie plot showing the distribution of female versus male mice using pandas\n",
    "mouse_gender = mouse_metadata.groupby([\"Sex\"])\n",
    "mouse_gender_divide = mouse_gender[\"Sex\"].value_counts()\n",
    "\n",
    "mouse_gender_pie = mouse_gender_divide.plot(kind=\"pie\", colors=[\"tab:pink\", \"tab:blue\"], autopct=\"%1.1f%%\")\n",
    "\n",
    "# hot to get rid of the (female,female) thing to just Female?"
   ]
  },
  {
   "cell_type": "code",
   "execution_count": 6,
   "metadata": {},
   "outputs": [
    {
     "data": {
      "text/plain": [
       "<function matplotlib.pyplot.show(*args, **kw)>"
      ]
     },
     "execution_count": 6,
     "metadata": {},
     "output_type": "execute_result"
    },
    {
     "data": {
      "image/png": "[encoded data removed]",
      "text/plain": [
       "<Figure size 432x288 with 1 Axes>"
      ]
     },
     "metadata": {},
     "output_type": "display_data"
    }
   ],
   "source": [
    "# Generate a pie plot showing the distribution of female versus male mice using pyplot\n",
    "plt.pie(mouse_gender_divide, explode=(0,0), labels = [\"Female\", \"Male\"], colors=[\"hotpink\", \"steelblue\"],autopct=\"%1.1f%%\")\n",
    "plt.ylabel(\"Sex\")\n",
    "plt.show"
   ]
  },
  {
   "cell_type": "code",
   "execution_count": 7,
   "metadata": {},
   "outputs": [
    {
     "data": {
      "text/html": [
       "<div>\n",
       "<style scoped>\n",
       "    .dataframe tbody tr th:only-of-type {\n",
       "        vertical-align: middle;\n",
       "    }\n",
       "\n",
       "    .dataframe tbody tr th {\n",
       "        vertical-align: top;\n",
       "    }\n",
       "\n",
       "    .dataframe thead th {\n",
       "        text-align: right;\n",
       "    }\n",
       "</style>\n",
       "<table border=\"1\" class=\"dataframe\">\n",
       "  <thead>\n",
       "    <tr style=\"text-align: right;\">\n",
       "      <th></th>\n",
       "      <th>Mouse ID</th>\n",
       "      <th>Timepoint</th>\n",
       "      <th>Drug Regimen</th>\n",
       "      <th>Sex</th>\n",
       "      <th>Age_months</th>\n",
       "      <th>Weight (g)</th>\n",
       "      <th>Tumor Volume (mm3)</th>\n",
       "      <th>Metastatic Sites</th>\n",
       "    </tr>\n",
       "  </thead>\n",
       "  <tbody>\n",
       "    <tr>\n",
       "      <td>0</td>\n",
       "      <td>b128</td>\n",
       "      <td>45</td>\n",
       "      <td>Capomulin</td>\n",
       "      <td>Female</td>\n",
       "      <td>9</td>\n",
       "      <td>22</td>\n",
       "      <td>38.982878</td>\n",
       "      <td>2</td>\n",
       "    </tr>\n",
       "    <tr>\n",
       "      <td>1</td>\n",
       "      <td>b742</td>\n",
       "      <td>45</td>\n",
       "      <td>Capomulin</td>\n",
       "      <td>Male</td>\n",
       "      <td>7</td>\n",
       "      <td>21</td>\n",
       "      <td>38.939633</td>\n",
       "      <td>0</td>\n",
       "    </tr>\n",
       "    <tr>\n",
       "      <td>2</td>\n",
       "      <td>f966</td>\n",
       "      <td>20</td>\n",
       "      <td>Capomulin</td>\n",
       "      <td>Male</td>\n",
       "      <td>16</td>\n",
       "      <td>17</td>\n",
       "      <td>30.485985</td>\n",
       "      <td>0</td>\n",
       "    </tr>\n",
       "    <tr>\n",
       "      <td>3</td>\n",
       "      <td>g288</td>\n",
       "      <td>45</td>\n",
       "      <td>Capomulin</td>\n",
       "      <td>Male</td>\n",
       "      <td>3</td>\n",
       "      <td>19</td>\n",
       "      <td>37.074024</td>\n",
       "      <td>1</td>\n",
       "    </tr>\n",
       "    <tr>\n",
       "      <td>4</td>\n",
       "      <td>g316</td>\n",
       "      <td>45</td>\n",
       "      <td>Capomulin</td>\n",
       "      <td>Female</td>\n",
       "      <td>22</td>\n",
       "      <td>22</td>\n",
       "      <td>40.159220</td>\n",
       "      <td>2</td>\n",
       "    </tr>\n",
       "  </tbody>\n",
       "</table>\n",
       "</div>"
      ],
      "text/plain": [
       "  Mouse ID  Timepoint Drug Regimen     Sex  Age_months  Weight (g)  \\\n",
       "0     b128         45    Capomulin  Female           9          22   \n",
       "1     b742         45    Capomulin    Male           7          21   \n",
       "2     f966         20    Capomulin    Male          16          17   \n",
       "3     g288         45    Capomulin    Male           3          19   \n",
       "4     g316         45    Capomulin  Female          22          22   \n",
       "\n",
       "   Tumor Volume (mm3)  Metastatic Sites  \n",
       "0           38.982878                 2  \n",
       "1           38.939633                 0  \n",
       "2           30.485985                 0  \n",
       "3           37.074024                 1  \n",
       "4           40.159220                 2  "
      ]
     },
     "execution_count": 7,
     "metadata": {},
     "output_type": "execute_result"
    }
   ],
   "source": [
    "# Calculate the final tumor volume of each mouse across four of the most promising treatment regimens.\n",
    "# mostpromisingtreatments = Capomulin, Ceftamin, Ramicane, Infubinol\n",
    "regimen_cap = mouse_study.loc[mouse_study[\"Drug Regimen\"]==\"Capomulin\",:]\n",
    "regimen_cef = mouse_study.loc[mouse_study[\"Drug Regimen\"]==\"Ceftamin\",:]\n",
    "regimen_ram = mouse_study.loc[mouse_study[\"Drug Regimen\"]==\"Ramicane\",:]\n",
    "regimen_inf = mouse_study.loc[mouse_study[\"Drug Regimen\"]==\"Infubinol\",:]\n",
    "\n",
    "finalvol_cap = regimen_cap.groupby(\"Mouse ID\").max()[\"Timepoint\"]\n",
    "finalvol_cap_col = pd.DataFrame(finalvol_cap)\n",
    "finalvol_cap_df = pd.merge(finalvol_cap_col, mouse_study, on=(\"Mouse ID\",\"Timepoint\"),how=\"left\")\n",
    "\n",
    "finalvol_cef = regimen_cef.groupby(\"Mouse ID\").max()[\"Timepoint\"]\n",
    "finalvol_cef_col = pd.DataFrame(finalvol_cef)\n",
    "finalvol_cef_df = pd.merge(finalvol_cef_col, mouse_study, on=(\"Mouse ID\",\"Timepoint\"),how=\"left\")\n",
    "\n",
    "finalvol_ram = regimen_ram.groupby(\"Mouse ID\").max()[\"Timepoint\"]\n",
    "finalvol_ram_col = pd.DataFrame(finalvol_ram)\n",
    "finalvol_ram_df = pd.merge(finalvol_ram_col, mouse_study, on=(\"Mouse ID\",\"Timepoint\"),how=\"left\")\n",
    "\n",
    "finalvol_inf = regimen_inf.groupby(\"Mouse ID\").max()[\"Timepoint\"]\n",
    "finalvol_inf_col = pd.DataFrame(finalvol_inf)\n",
    "finalvol_inf_df = pd.merge(finalvol_inf_col, mouse_study, on=(\"Mouse ID\",\"Timepoint\"),how=\"left\")\n",
    "\n",
    "join_capcef = pd.DataFrame.append(finalvol_cap_df, finalvol_cef_df)\n",
    "join_raminf = pd.DataFrame.append(finalvol_ram_df, finalvol_inf_df)\n",
    "join_capceframinf = pd.DataFrame.append(join_capcef, join_raminf)\n",
    "join_capceframinf.head()"
   ]
  },
  {
   "cell_type": "code",
   "execution_count": 8,
   "metadata": {},
   "outputs": [
    {
     "name": "stdout",
     "output_type": "stream",
     "text": [
      "The lower and upper quartiles of Capomulin are: 38.125164399999996 and 40.1592203 respectively.\n",
      "The interquartile range of Capomulin are: 2.0340559000000056\n",
      "Values above 43.21030415000001 and below 35.07408054999999 could be outliers.\n",
      "------------------------------------------------------------------------------\n",
      "The lower and upper quartiles of Ceftamin are: 59.85195552 and 64.29983003 respectively.\n",
      "The interquartile range of Ceftamin are: 4.447874509999998\n",
      "Values above 70.971641795 and below 53.180143755 could be outliers.\n",
      "------------------------------------------------------------------------------\n",
      "The lower and upper quartiles of Ramicane are: 36.56165229 and 40.65900627 respectively.\n",
      "The interquartile range of Ramicane are: 4.097353980000001\n",
      "Values above 46.805037240000004 and below 30.415621319999996 could be outliers.\n",
      "------------------------------------------------------------------------------\n",
      "The lower and upper quartiles of Infubinol are: 60.16518046 and 65.52574285 respectively.\n",
      "The interquartile range of Infubinol are: 5.360562389999998\n",
      "Values above 73.566586435 and below 52.124336875000004 could be outliers.\n"
     ]
    }
   ],
   "source": [
    "# Calculate the IQR and quantitatively determine if there are any potential outliers.\n",
    "\n",
    "tumors_cap = finalvol_cap_df[\"Tumor Volume (mm3)\"]\n",
    "quartiles_cap = tumors_cap.quantile([.25, .5, .75])\n",
    "lowerq_cap = quartiles_cap[.5]\n",
    "upperq_cap = quartiles_cap[.75]\n",
    "iqr_cap = upperq_cap-lowerq_cap\n",
    "lower_bound_cap = lowerq_cap - (1.5*iqr_cap)\n",
    "upper_bound_cap = upperq_cap + (1.5*iqr_cap)\n",
    "\n",
    "tumors_cef = finalvol_cef_df[\"Tumor Volume (mm3)\"]\n",
    "quartiles_cef = tumors_cef.quantile([.25, .5, .75])\n",
    "lowerq_cef = quartiles_cef[.5]\n",
    "upperq_cef = quartiles_cef[.75]\n",
    "iqr_cef = upperq_cef-lowerq_cef\n",
    "lower_bound_cef = lowerq_cef - (1.5*iqr_cef)\n",
    "upper_bound_cef = upperq_cef + (1.5*iqr_cef)\n",
    "\n",
    "tumors_ram = finalvol_ram_df[\"Tumor Volume (mm3)\"]\n",
    "quartiles_ram = tumors_ram.quantile([.25, .5, .75])\n",
    "lowerq_ram = quartiles_ram[.5]\n",
    "upperq_ram = quartiles_ram[.75]\n",
    "iqr_ram = upperq_ram-lowerq_ram\n",
    "lower_bound_ram = lowerq_ram - (1.5*iqr_ram)\n",
    "upper_bound_ram = upperq_ram + (1.5*iqr_ram)\n",
    "\n",
    "tumors_inf = finalvol_inf_df[\"Tumor Volume (mm3)\"]\n",
    "quartiles_inf = tumors_inf.quantile([.25, .5, .75])\n",
    "lowerq_inf = quartiles_inf[.5]\n",
    "upperq_inf = quartiles_inf[.75]\n",
    "iqr_inf = upperq_inf-lowerq_inf\n",
    "lower_bound_inf = lowerq_inf - (1.5*iqr_inf)\n",
    "upper_bound_inf = upperq_inf + (1.5*iqr_inf)\n",
    "\n",
    "print(f\"The lower and upper quartiles of Capomulin are: {lowerq_cap} and {upperq_cap} respectively.\")\n",
    "print(f\"The interquartile range of Capomulin are: {iqr_cap}\")\n",
    "print(f\"Values above {upper_bound_cap} and below {lower_bound_cap} could be outliers.\")\n",
    "print(\"------------------------------------------------------------------------------\")\n",
    "print(f\"The lower and upper quartiles of Ceftamin are: {lowerq_cef} and {upperq_cef} respectively.\")\n",
    "print(f\"The interquartile range of Ceftamin are: {iqr_cef}\")\n",
    "print(f\"Values above {upper_bound_cef} and below {lower_bound_cef} could be outliers.\")\n",
    "print(\"------------------------------------------------------------------------------\")\n",
    "print(f\"The lower and upper quartiles of Ramicane are: {lowerq_ram} and {upperq_ram} respectively.\")\n",
    "print(f\"The interquartile range of Ramicane are: {iqr_ram}\")\n",
    "print(f\"Values above {upper_bound_ram} and below {lower_bound_ram} could be outliers.\")\n",
    "print(\"------------------------------------------------------------------------------\")\n",
    "print(f\"The lower and upper quartiles of Infubinol are: {lowerq_inf} and {upperq_inf} respectively.\")\n",
    "print(f\"The interquartile range of Infubinol are: {iqr_inf}\")\n",
    "print(f\"Values above {upper_bound_inf} and below {lower_bound_inf} could be outliers.\")"
   ]
  },
  {
   "cell_type": "code",
   "execution_count": 9,
   "metadata": {},
   "outputs": [
    {
     "data": {
      "image/png": "[encoded data removed]",
      "text/plain": [
       "<Figure size 432x288 with 1 Axes>"
      ]
     },
     "metadata": {
      "needs_background": "light"
     },
     "output_type": "display_data"
    }
   ],
   "source": [
    "# Generate a box plot of the final tumor volume of each mouse across four regimens of interest\n",
    "tumor_box_plot = [tumors_cap, tumors_cef, tumors_ram, tumors_inf]\n",
    "green_diamond = dict(markerfacecolor='g', marker='D')\n",
    "\n",
    "fig1, ax1 = plt.subplots()\n",
    "ax1.set_title('Tumors')\n",
    "ax1.set_ylabel('Final Tumor Volume (mm3)')\n",
    "ax1.set_xlabel('Drug Regimen')\n",
    "\n",
    "ax1.boxplot(tumor_box_plot, labels=[\"Capomulin\",\"Ceftamin\",\"Ramicane\",\"Infubinol\",], flierprops=green_diamond)\n",
    "\n",
    "plt.show()"
   ]
  },
  {
   "cell_type": "code",
   "execution_count": 10,
   "metadata": {},
   "outputs": [
    {
     "data": {
      "image/png": "[encoded data removed]",
      "text/plain": [
       "<Figure size 432x288 with 1 Axes>"
      ]
     },
     "metadata": {
      "needs_background": "light"
     },
     "output_type": "display_data"
    }
   ],
   "source": [
    "# Generate a line plot of time point versus tumor volume for a mouse treated with Capomulin\n",
    "# mouse 'w914'\n",
    "capo_mouse = mouse_study.loc[mouse_study[\"Mouse ID\"]==\"w914\",:]\n",
    "x_axis = capo_mouse[\"Timepoint\"]\n",
    "y_axis = capo_mouse[\"Tumor Volume (mm3)\"]\n",
    "\n",
    "plt.title('Treatment of mouse w914 with Capomulin')\n",
    "plt.plot(x_axis, y_axis)\n",
    "plt.xlabel('Timepoint (Days)')\n",
    "plt.ylabel('Tumor Volume (mm3)')\n",
    "plt.show()"
   ]
  },
  {
   "cell_type": "code",
   "execution_count": 11,
   "metadata": {},
   "outputs": [
    {
     "data": {
      "image/png": "[encoded data removed]",
      "text/plain": [
       "<Figure size 432x288 with 1 Axes>"
      ]
     },
     "metadata": {
      "needs_background": "light"
     },
     "output_type": "display_data"
    }
   ],
   "source": [
    "# Generate a scatter plot of mouse weight versus average tumor volume for the Capomulin regimen \n",
    "capo_mice_avg = regimen_cap.groupby([\"Mouse ID\"]).mean()\n",
    "plt.scatter(capo_mice_avg[\"Weight (g)\"],capo_mice_avg[\"Tumor Volume (mm3)\"])\n",
    "plt.xlabel(\"Weight (g)\")\n",
    "plt.ylabel(\"Average Tumor Volume (mm3)\")\n",
    "plt.show()"
   ]
  },
  {
   "cell_type": "code",
   "execution_count": 12,
   "metadata": {},
   "outputs": [
    {
     "name": "stdout",
     "output_type": "stream",
     "text": [
      "The correlation between both factors is 0.84\n"
     ]
    }
   ],
   "source": [
    "# Calculate the correlation coefficient and linear regression model for mouse weight and average tumor volume for the\n",
    "# Capomulin regimen\n",
    "\n",
    "correlation = st.pearsonr(capo_mice_avg[\"Weight (g)\"],capo_mice_avg[\"Tumor Volume (mm3)\"])\n",
    "print(f\"The correlation between both factors is {round(correlation[0],2)}\")"
   ]
  },
  {
   "cell_type": "code",
   "execution_count": 13,
   "metadata": {},
   "outputs": [
    {
     "data": {
      "image/png": "[encoded data removed]",
      "text/plain": [
       "<Figure size 432x288 with 1 Axes>"
      ]
     },
     "metadata": {
      "needs_background": "light"
     },
     "output_type": "display_data"
    }
   ],
   "source": [
    "x_values = capo_mice_avg[\"Weight (g)\"]\n",
    "y_values = capo_mice_avg[\"Tumor Volume (mm3)\"]\n",
    "(slope, intercept, rvalue, pvalue, stderr) = linregress(x_values, y_values)\n",
    "regress_values = x_values * slope + intercept\n",
    "line_eq = \"y = \" + str(round(slope,2)) + \"x + \" + str(round(intercept,2))\n",
    "plt.scatter(x_values,y_values)\n",
    "plt.plot(x_values,regress_values,\"r-\")\n",
    "plt.xlabel(\"Weight (g)\")\n",
    "plt.ylabel(\"Tumor Volume (mm3)\")\n",
    "plt.show()"
   ]
  },
  {
   "cell_type": "code",
   "execution_count": null,
   "metadata": {},
   "outputs": [],
   "source": []
  }
 ],
 "metadata": {
  "kernelspec": {
   "display_name": "Python 3",
   "language": "python",
   "name": "python3"
  },
  "language_info": {
   "codemirror_mode": {
    "name": "ipython",
    "version": 3
   },
   "file_extension": ".py",
   "mimetype": "text/x-python",
   "name": "python",
   "nbconvert_exporter": "python",
   "pygments_lexer": "ipython3",
   "version": "3.7.4"
  }
 },
 "nbformat": 4,
 "nbformat_minor": 2
}
